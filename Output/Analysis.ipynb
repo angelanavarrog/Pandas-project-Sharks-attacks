{
 "cells": [
  {
   "cell_type": "markdown",
   "metadata": {},
   "source": [
    "## To continue the analysis, we recall the hypothesis: \"The highest proportion of attacks in the last century has taken place in the United States but the fatality level is lower than in the rest of the world\"."
   ]
  },
  {
   "cell_type": "code",
   "execution_count": 1,
   "metadata": {},
   "outputs": [],
   "source": [
    "import pandas as pd\n",
    "import numpy as np\n",
    "import re\n",
    "import seaborn as sns\n",
    "import matplotlib as plt"
   ]
  },
  {
   "cell_type": "code",
   "execution_count": 2,
   "metadata": {},
   "outputs": [],
   "source": [
    "final_attacks = pd.read_csv(\"../output/final_attacks_output.csv\",encoding = \"ISO-8859-1\")"
   ]
  },
  {
   "cell_type": "code",
   "execution_count": 3,
   "metadata": {},
   "outputs": [
    {
     "data": {
      "text/plain": [
       "Country  Fatal  Year    Age\n",
       "USA      N      2003.0  18     6\n",
       "other    N      2006.0  15     5\n",
       "                1964.0  19     4\n",
       "USA      N      2001.0  16     4\n",
       "                1995.0  19     4\n",
       "                              ..\n",
       "         Y      1933.0  24     1\n",
       "                1926.0  18     1\n",
       "                1924.0  35     1\n",
       "                1922.0  18     1\n",
       "other    Y      2018.0  18     1\n",
       "Length: 2555, dtype: int64"
      ]
     },
     "execution_count": 3,
     "metadata": {},
     "output_type": "execute_result"
    }
   ],
   "source": [
    "final_attacks[[\"Country\",\"Fatal\",\"Year\", \"Age\"]].value_counts()"
   ]
  },
  {
   "cell_type": "code",
   "execution_count": 4,
   "metadata": {},
   "outputs": [],
   "source": [
    "hipothesis = final_attacks.groupby([\"Country\",\"Fatal\",\"Year\",])"
   ]
  },
  {
   "cell_type": "code",
   "execution_count": 5,
   "metadata": {},
   "outputs": [
    {
     "ename": "SyntaxError",
     "evalue": "invalid syntax (<ipython-input-5-e38b8be7225f>, line 1)",
     "output_type": "error",
     "traceback": [
      "\u001b[0;36m  File \u001b[0;32m\"<ipython-input-5-e38b8be7225f>\"\u001b[0;36m, line \u001b[0;32m1\u001b[0m\n\u001b[0;31m    hipothesis.describe(:10)\u001b[0m\n\u001b[0m                        ^\u001b[0m\n\u001b[0;31mSyntaxError\u001b[0m\u001b[0;31m:\u001b[0m invalid syntax\n"
     ]
    }
   ],
   "source": [
    "hipothesis.describe(:10)"
   ]
  },
  {
   "cell_type": "code",
   "execution_count": null,
   "metadata": {},
   "outputs": [],
   "source": [
    "hipothesis.describe()"
   ]
  },
  {
   "cell_type": "markdown",
   "metadata": {},
   "source": [
    "### Distrubution of attacks in the USA"
   ]
  },
  {
   "cell_type": "code",
   "execution_count": null,
   "metadata": {},
   "outputs": [],
   "source": [
    "# To filter only data in Country when value is \"USA\"\n",
    "\n",
    "USA = final_attacks.loc[: , 'Country'] == 'USA'\n",
    "USA_attacks = final_attacks.loc[USA]"
   ]
  },
  {
   "cell_type": "code",
   "execution_count": null,
   "metadata": {},
   "outputs": [],
   "source": [
    "# To filter only data in Country when value is \"other\"\n",
    "\n",
    "other = final_attacks.loc[: , 'Country'] == 'other'\n",
    "rest_attacks = final_attacks.loc[other]"
   ]
  },
  {
   "cell_type": "markdown",
   "metadata": {},
   "source": [
    "## Analysis visualization"
   ]
  },
  {
   "cell_type": "code",
   "execution_count": null,
   "metadata": {},
   "outputs": [],
   "source": [
    "hipothesis = final_attacks.groupby([\"Country\",\"Fatal\",\"Year\", \"Age\"])"
   ]
  },
  {
   "cell_type": "markdown",
   "metadata": {},
   "source": [
    "#### Graph 1: Probability of a shark attack taking place in the USA. "
   ]
  },
  {
   "cell_type": "code",
   "execution_count": null,
   "metadata": {},
   "outputs": [],
   "source": [
    "sns.histplot(data = final_attacks, x = \"Country\", stat = \"probability\", discrete = True)"
   ]
  },
  {
   "cell_type": "markdown",
   "metadata": {},
   "source": [
    "At very first sight, the first graph shows that approximately 40% of attacks take place in the USA."
   ]
  },
  {
   "cell_type": "markdown",
   "metadata": {},
   "source": [
    "#### Graph 2: Distribution of fatal attacks between the USA and the rest of the world."
   ]
  },
  {
   "cell_type": "code",
   "execution_count": null,
   "metadata": {},
   "outputs": [],
   "source": [
    "sns.countplot(x = final_attacks.Country, hue = final_attacks.Fatal, palette=\"Blues\")"
   ]
  },
  {
   "cell_type": "markdown",
   "metadata": {},
   "source": [
    "Additionally, the second graph shows that most of the fatalities take place outside the US."
   ]
  },
  {
   "cell_type": "markdown",
   "metadata": {},
   "source": [
    "#### Grpahs 3 & 4: Density distribution of fatal attacks in the US."
   ]
  },
  {
   "cell_type": "markdown",
   "metadata": {},
   "source": [
    "#### Graph 3: Density distribution of fatal attacks in the US "
   ]
  },
  {
   "cell_type": "code",
   "execution_count": null,
   "metadata": {},
   "outputs": [],
   "source": [
    "sns.kdeplot(x = USA_attacks.Year, hue = final_attacks.Fatal)"
   ]
  },
  {
   "cell_type": "markdown",
   "metadata": {},
   "source": [
    "#### Graph 4: Historam distribution of fatal attacks in the US."
   ]
  },
  {
   "cell_type": "code",
   "execution_count": null,
   "metadata": {},
   "outputs": [],
   "source": [
    "sns.histplot(x = USA_attacks.Year, hue = USA_attacks.Fatal, bins = 12)"
   ]
  },
  {
   "cell_type": "markdown",
   "metadata": {},
   "source": [
    "In the graph above we can see how the attacks in the USA distributed on a decade basis."
   ]
  },
  {
   "cell_type": "markdown",
   "metadata": {},
   "source": [
    "#### Graph 5: Density distribution of fatal attacks in the rest of the world \n"
   ]
  },
  {
   "cell_type": "code",
   "execution_count": null,
   "metadata": {},
   "outputs": [],
   "source": [
    "sns.kdeplot(x = rest_attacks.Year, hue = final_attacks.Fatal)"
   ]
  },
  {
   "cell_type": "markdown",
   "metadata": {},
   "source": [
    "#### Graph 6: Histogram distribution of fatal attacks in the rest of the world."
   ]
  },
  {
   "cell_type": "code",
   "execution_count": null,
   "metadata": {},
   "outputs": [],
   "source": [
    "sns.histplot(x = rest_attacks.Year, hue = rest_attacks.Fatal, bins = 10)"
   ]
  },
  {
   "cell_type": "markdown",
   "metadata": {},
   "source": [
    "In the graph above we can see how the attacks in the USA distributed on a decade basis."
   ]
  },
  {
   "cell_type": "markdown",
   "metadata": {},
   "source": [
    "#### Figures 3&4 and 5&6 conclusions\n",
    "\n",
    "- Figures 3&4 shows that despite an increase in the number of attacks in the USA, the majority of attacks do not result in death.\n",
    "\n",
    "- Figures 5&6 shows that in the rest of the world, as shark attacks increase, the number of deaths caused by sharks also increases.\n",
    "\n",
    "However, we can see how this trend changes, increasing the number of attacks that do not end in fatality with respect to those that do."
   ]
  },
  {
   "cell_type": "markdown",
   "metadata": {},
   "source": [
    "## Conclusion\n",
    "\n",
    "The hypothesis: \"The highest proportion of attacks in the last century has taken place in the United States but the fatality level is lower than in the rest of the world\" is true."
   ]
  }
 ],
 "metadata": {
  "kernelspec": {
   "display_name": "Python 3",
   "language": "python",
   "name": "python3"
  },
  "language_info": {
   "codemirror_mode": {
    "name": "ipython",
    "version": 3
   },
   "file_extension": ".py",
   "mimetype": "text/x-python",
   "name": "python",
   "nbconvert_exporter": "python",
   "pygments_lexer": "ipython3",
   "version": "3.9.1"
  }
 },
 "nbformat": 4,
 "nbformat_minor": 4
}
