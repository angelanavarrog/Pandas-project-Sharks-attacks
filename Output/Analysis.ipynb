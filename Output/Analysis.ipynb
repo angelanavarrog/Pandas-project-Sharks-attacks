{
 "cells": [
  {
   "cell_type": "markdown",
   "metadata": {},
   "source": [
    "## To continue the analysis, we recall the hypothesis: \"The highest proportion of attacks in the last century has taken place in the United States but the fatality level is lower\"."
   ]
  },
  {
   "cell_type": "code",
   "execution_count": 88,
   "metadata": {},
   "outputs": [],
   "source": [
    "import pandas as pd\n",
    "import numpy as np\n",
    "import re\n",
    "import seaborn as sns\n",
    "import matplotlib as plt"
   ]
  },
  {
   "cell_type": "code",
   "execution_count": 89,
   "metadata": {},
   "outputs": [],
   "source": [
    "final_attacks = pd.read_csv(\"../output/final_attacks_output.csv\",encoding = \"ISO-8859-1\")"
   ]
  },
  {
   "cell_type": "code",
   "execution_count": 90,
   "metadata": {},
   "outputs": [
    {
     "data": {
      "text/plain": [
       "Country  Fatal  Year    Age\n",
       "USA      N      2003.0  18     6\n",
       "other    N      2006.0  15     5\n",
       "                1964.0  19     4\n",
       "USA      N      2001.0  16     4\n",
       "                1995.0  19     4\n",
       "                              ..\n",
       "         Y      1933.0  24     1\n",
       "                1926.0  18     1\n",
       "                1924.0  35     1\n",
       "                1922.0  18     1\n",
       "other    Y      2018.0  18     1\n",
       "Length: 2555, dtype: int64"
      ]
     },
     "execution_count": 90,
     "metadata": {},
     "output_type": "execute_result"
    }
   ],
   "source": [
    "final_attacks[[\"Country\",\"Fatal\",\"Year\", \"Age\"]].value_counts()"
   ]
  },
  {
   "cell_type": "code",
   "execution_count": 91,
   "metadata": {},
   "outputs": [],
   "source": [
    "hipothesis = final_attacks.groupby([\"Country\",\"Fatal\",\"Year\", \"Age\"])"
   ]
  },
  {
   "cell_type": "markdown",
   "metadata": {},
   "source": [
    "## Analysis visualization"
   ]
  },
  {
   "cell_type": "markdown",
   "metadata": {},
   "source": [
    "#### Graph 1: Probability of a shark attack taking place in the USA. "
   ]
  },
  {
   "cell_type": "code",
   "execution_count": 92,
   "metadata": {},
   "outputs": [
    {
     "data": {
      "text/plain": [
       "<AxesSubplot:xlabel='Country', ylabel='Probability'>"
      ]
     },
     "execution_count": 92,
     "metadata": {},
     "output_type": "execute_result"
    },
    {
     "data": {
      "image/png": "[encoded data removed]",
      "text/plain": [
       "<Figure size 432x288 with 1 Axes>"
      ]
     },
     "metadata": {
      "needs_background": "light"
     },
     "output_type": "display_data"
    }
   ],
   "source": [
    "sns.histplot(data = final_attacks, x = \"Country\", stat = \"probability\", discrete = True)"
   ]
  },
  {
   "cell_type": "markdown",
   "metadata": {},
   "source": [
    "At very first sight, the first graph shows that approximately 40% of attacks take place in the USA."
   ]
  },
  {
   "cell_type": "markdown",
   "metadata": {},
   "source": [
    "#### Graph 2: Distribution of fatal attacks between the USA and the rest of the world."
   ]
  },
  {
   "cell_type": "code",
   "execution_count": 93,
   "metadata": {},
   "outputs": [
    {
     "data": {
      "text/plain": [
       "<AxesSubplot:xlabel='Country', ylabel='count'>"
      ]
     },
     "execution_count": 93,
     "metadata": {},
     "output_type": "execute_result"
    },
    {
     "data": {
      "image/png": "[encoded data removed]",
      "text/plain": [
       "<Figure size 432x288 with 1 Axes>"
      ]
     },
     "metadata": {
      "needs_background": "light"
     },
     "output_type": "display_data"
    }
   ],
   "source": [
    "sns.countplot(x = final_attacks.Country, hue = final_attacks.Fatal, palette=\"Blues\")"
   ]
  },
  {
   "cell_type": "markdown",
   "metadata": {},
   "source": [
    "Additionally, the second graph shows that most of the fatalities take place outside the US."
   ]
  },
  {
   "cell_type": "markdown",
   "metadata": {},
   "source": [
    "### Graph 3: Distrubtion of attacks in the USA"
   ]
  },
  {
   "cell_type": "code",
   "execution_count": 94,
   "metadata": {},
   "outputs": [
    {
     "data": {
      "text/html": [
       "<div>\n",
       "<style scoped>\n",
       "    .dataframe tbody tr th:only-of-type {\n",
       "        vertical-align: middle;\n",
       "    }\n",
       "\n",
       "    .dataframe tbody tr th {\n",
       "        vertical-align: top;\n",
       "    }\n",
       "\n",
       "    .dataframe thead th {\n",
       "        text-align: right;\n",
       "    }\n",
       "</style>\n",
       "<table border=\"1\" class=\"dataframe\">\n",
       "  <thead>\n",
       "    <tr style=\"text-align: right;\">\n",
       "      <th></th>\n",
       "      <th>Case Number</th>\n",
       "      <th>Date</th>\n",
       "      <th>Year</th>\n",
       "      <th>Country</th>\n",
       "      <th>Area</th>\n",
       "      <th>Location</th>\n",
       "      <th>Activity</th>\n",
       "      <th>Name</th>\n",
       "      <th>Sex</th>\n",
       "      <th>Age</th>\n",
       "      <th>Injury</th>\n",
       "      <th>Fatal</th>\n",
       "      <th>Species</th>\n",
       "    </tr>\n",
       "  </thead>\n",
       "  <tbody>\n",
       "    <tr>\n",
       "      <th>0</th>\n",
       "      <td>2018.06.25</td>\n",
       "      <td>25-Jun-2018</td>\n",
       "      <td>2018.0</td>\n",
       "      <td>USA</td>\n",
       "      <td>California</td>\n",
       "      <td>Oceanside, San Diego County</td>\n",
       "      <td>Paddling</td>\n",
       "      <td>Julie Wolfe</td>\n",
       "      <td>F</td>\n",
       "      <td>57</td>\n",
       "      <td>No injury to occupant, outrigger canoe and pad...</td>\n",
       "      <td>N</td>\n",
       "      <td>White shark</td>\n",
       "    </tr>\n",
       "    <tr>\n",
       "      <th>1</th>\n",
       "      <td>2018.06.18</td>\n",
       "      <td>18-Jun-2018</td>\n",
       "      <td>2018.0</td>\n",
       "      <td>USA</td>\n",
       "      <td>Georgia</td>\n",
       "      <td>St. Simon Island, Glynn County</td>\n",
       "      <td>Standing</td>\n",
       "      <td>AdysonÂ McNeely</td>\n",
       "      <td>F</td>\n",
       "      <td>11</td>\n",
       "      <td>Minor injury to left thigh</td>\n",
       "      <td>N</td>\n",
       "      <td>NaN</td>\n",
       "    </tr>\n",
       "    <tr>\n",
       "      <th>2</th>\n",
       "      <td>2018.06.09</td>\n",
       "      <td>09-Jun-2018</td>\n",
       "      <td>2018.0</td>\n",
       "      <td>USA</td>\n",
       "      <td>Hawaii</td>\n",
       "      <td>Habush, Oahu</td>\n",
       "      <td>Surfing</td>\n",
       "      <td>John Denges</td>\n",
       "      <td>M</td>\n",
       "      <td>48</td>\n",
       "      <td>Injury to left lower leg from surfboard skeg</td>\n",
       "      <td>N</td>\n",
       "      <td>NaN</td>\n",
       "    </tr>\n",
       "    <tr>\n",
       "      <th>7</th>\n",
       "      <td>2018.05.27</td>\n",
       "      <td>27-May-2018</td>\n",
       "      <td>2018.0</td>\n",
       "      <td>USA</td>\n",
       "      <td>Florida</td>\n",
       "      <td>Lighhouse Point Park, Ponce Inlet, Volusia County</td>\n",
       "      <td>Fishing</td>\n",
       "      <td>male</td>\n",
       "      <td>M</td>\n",
       "      <td>52</td>\n",
       "      <td>Minor injury to foot. PROVOKED INCIDENT</td>\n",
       "      <td>N</td>\n",
       "      <td>Lemon shark, 3'</td>\n",
       "    </tr>\n",
       "    <tr>\n",
       "      <th>8</th>\n",
       "      <td>2018.05.26.b</td>\n",
       "      <td>26-May-2018</td>\n",
       "      <td>2018.0</td>\n",
       "      <td>USA</td>\n",
       "      <td>Florida</td>\n",
       "      <td>Cocoa Beach, Brevard  County</td>\n",
       "      <td>Walking</td>\n",
       "      <td>Cody High</td>\n",
       "      <td>M</td>\n",
       "      <td>15</td>\n",
       "      <td>Lower left leg bitten</td>\n",
       "      <td>N</td>\n",
       "      <td>Bull shark, 6'</td>\n",
       "    </tr>\n",
       "  </tbody>\n",
       "</table>\n",
       "</div>"
      ],
      "text/plain": [
       "    Case Number         Date    Year Country        Area  \\\n",
       "0    2018.06.25  25-Jun-2018  2018.0     USA  California   \n",
       "1    2018.06.18  18-Jun-2018  2018.0     USA     Georgia   \n",
       "2    2018.06.09  09-Jun-2018  2018.0     USA      Hawaii   \n",
       "7    2018.05.27  27-May-2018  2018.0     USA     Florida   \n",
       "8  2018.05.26.b  26-May-2018  2018.0     USA     Florida   \n",
       "\n",
       "                                            Location  Activity  \\\n",
       "0                        Oceanside, San Diego County  Paddling   \n",
       "1                     St. Simon Island, Glynn County  Standing   \n",
       "2                                       Habush, Oahu   Surfing   \n",
       "7  Lighhouse Point Park, Ponce Inlet, Volusia County   Fishing   \n",
       "8                       Cocoa Beach, Brevard  County   Walking   \n",
       "\n",
       "               Name Sex  Age  \\\n",
       "0       Julie Wolfe    F  57   \n",
       "1  AdysonÂ McNeely     F  11   \n",
       "2       John Denges    M  48   \n",
       "7              male    M  52   \n",
       "8         Cody High    M  15   \n",
       "\n",
       "                                              Injury Fatal          Species  \n",
       "0  No injury to occupant, outrigger canoe and pad...     N      White shark  \n",
       "1                         Minor injury to left thigh     N              NaN  \n",
       "2       Injury to left lower leg from surfboard skeg     N              NaN  \n",
       "7            Minor injury to foot. PROVOKED INCIDENT     N  Lemon shark, 3'  \n",
       "8                              Lower left leg bitten     N   Bull shark, 6'  "
      ]
     },
     "execution_count": 94,
     "metadata": {},
     "output_type": "execute_result"
    }
   ],
   "source": [
    "# To filter only data in Country when value is \"USA\"\n",
    "\n",
    "USA = final_attacks.loc[: , 'Country'] == 'USA'\n",
    "USA_attacks = final_attacks.loc[USA]\n",
    "USA_attacks.head()"
   ]
  },
  {
   "cell_type": "code",
   "execution_count": 95,
   "metadata": {},
   "outputs": [
    {
     "data": {
      "text/plain": [
       "<AxesSubplot:xlabel='Year', ylabel='Density'>"
      ]
     },
     "execution_count": 95,
     "metadata": {},
     "output_type": "execute_result"
    },
    {
     "data": {
      "image/png": "[encoded data removed]",
      "text/plain": [
       "<Figure size 432x288 with 1 Axes>"
      ]
     },
     "metadata": {
      "needs_background": "light"
     },
     "output_type": "display_data"
    }
   ],
   "source": [
    "sns.kdeplot(x = USA_attacks.Year, hue = final_attacks.Fatal)"
   ]
  },
  {
   "cell_type": "code",
   "execution_count": 96,
   "metadata": {},
   "outputs": [
    {
     "data": {
      "text/plain": [
       "<AxesSubplot:xlabel='Year', ylabel='Density'>"
      ]
     },
     "execution_count": 96,
     "metadata": {},
     "output_type": "execute_result"
    },
    {
     "data": {
      "image/png": "[encoded data removed]",
      "text/plain": [
       "<Figure size 432x288 with 1 Axes>"
      ]
     },
     "metadata": {
      "needs_background": "light"
     },
     "output_type": "display_data"
    }
   ],
   "source": [
    "sns.kdeplot(x = final_attacks.Year, hue = final_attacks.Fatal)"
   ]
  },
  {
   "cell_type": "markdown",
   "metadata": {},
   "source": [
    "We observe  that from 1900 to 1920, the number of attacks that ended fatally and those that did not were proportional.\n",
    "\n",
    "However, we can see how this trend changes, increasing the number of attacks that do not end in fatality with respect to those that do."
   ]
  },
  {
   "cell_type": "code",
   "execution_count": 98,
   "metadata": {},
   "outputs": [
    {
     "data": {
      "text/plain": [
       "<AxesSubplot:xlabel='Year', ylabel='Count'>"
      ]
     },
     "execution_count": 98,
     "metadata": {},
     "output_type": "execute_result"
    },
    {
     "data": {
      "image/png": "[encoded data removed]",
      "text/plain": [
       "<Figure size 432x288 with 1 Axes>"
      ]
     },
     "metadata": {
      "needs_background": "light"
     },
     "output_type": "display_data"
    }
   ],
   "source": [
    "sns.histplot(x = final_attacks.Year, hue = final_attacks.Fatal, bins = 10)"
   ]
  },
  {
   "cell_type": "code",
   "execution_count": 14,
   "metadata": {},
   "outputs": [
    {
     "data": {
      "text/plain": [
       "<AxesSubplot:xlabel='Fatal', ylabel='Year'>"
      ]
     },
     "execution_count": 14,
     "metadata": {},
     "output_type": "execute_result"
    },
    {
     "data": {
      "image/png": "[encoded data removed]",
      "text/plain": [
       "<Figure size 432x288 with 1 Axes>"
      ]
     },
     "metadata": {
      "needs_background": "light"
     },
     "output_type": "display_data"
    }
   ],
   "source": [
    "sns.boxplot (x = \"Fatal\", y = \"Year\", data = final_attacks)"
   ]
  },
  {
   "cell_type": "markdown",
   "metadata": {},
   "source": [
    "In the graph above we can see how the fatalities are distributed on a yearly basis."
   ]
  },
  {
   "cell_type": "code",
   "execution_count": null,
   "metadata": {},
   "outputs": [],
   "source": []
  }
 ],
 "metadata": {
  "kernelspec": {
   "display_name": "Python 3",
   "language": "python",
   "name": "python3"
  },
  "language_info": {
   "codemirror_mode": {
    "name": "ipython",
    "version": 3
   },
   "file_extension": ".py",
   "mimetype": "text/x-python",
   "name": "python",
   "nbconvert_exporter": "python",
   "pygments_lexer": "ipython3",
   "version": "3.9.1"
  }
 },
 "nbformat": 4,
 "nbformat_minor": 4
}
